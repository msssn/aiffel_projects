{
 "cells": [
  {
   "cell_type": "markdown",
   "id": "aquatic-bradford",
   "metadata": {},
   "source": [
    "# Image classification (Rock, Scissor, Paper)"
   ]
  },
  {
   "cell_type": "markdown",
   "id": "auburn-genesis",
   "metadata": {},
   "source": [
    "## 1. 데이터 불러오기\n",
    "전에 Exploration_1에서 실습했던 숫자 손글씨는 이미지 크기가 28x28이었기 때문에,\n",
    "설계된 모델에 맞추려면 가위바위보 이미지도 28x28로 만들어줘야 한다."
   ]
  },
  {
   "cell_type": "code",
   "execution_count": 1,
   "id": "successful-kidney",
   "metadata": {},
   "outputs": [
    {
     "name": "stdout",
     "output_type": "stream",
     "text": [
      "PIL 라이브러리 import 완료!\n"
     ]
    }
   ],
   "source": [
    "# PIL 라이브러리 블러오기\n",
    "from PIL import Image\n",
    "import os, glob\n",
    "\n",
    "print(\"PIL 라이브러리 import 완료!\")"
   ]
  },
  {
   "cell_type": "markdown",
   "id": "authorized-parent",
   "metadata": {},
   "source": [
    "### 1-1. 가위바위보 이미지 크기 변환\n"
   ]
  },
  {
   "cell_type": "code",
   "execution_count": 2,
   "id": "structural-married",
   "metadata": {},
   "outputs": [],
   "source": [
    "# 이미지 크기 변환 함수\n",
    "import os\n",
    "\n",
    "def resize_images(img_path):\n",
    "\timages=glob.glob(img_path + \"/*.jpg\")  \n",
    "    \n",
    "\tprint(len(images), \" images to be resized.\")\n",
    "\n",
    "    # 파일마다 모두 28x28 사이즈로 바꾸어 저장합니다.\n",
    "\ttarget_size=(28,28)\n",
    "\tfor img in images:\n",
    "\t\told_img=Image.open(img)\n",
    "\t\tnew_img=old_img.resize(target_size,Image.ANTIALIAS)\n",
    "\t\tnew_img.save(img, \"JPEG\")\n",
    "    \n",
    "\tprint(len(images), \" images resized.\")"
   ]
  },
  {
   "cell_type": "code",
   "execution_count": 3,
   "id": "understood-explosion",
   "metadata": {},
   "outputs": [
    {
     "name": "stdout",
     "output_type": "stream",
     "text": [
      "100  images to be resized.\n",
      "100  images resized.\n",
      "가위 이미지 resize 완료!\n"
     ]
    }
   ],
   "source": [
    "# 모든 가위 이미지 변환 (train dataset 사용)\n",
    "\n",
    "# 이미지가 저장된 디렉토리 아래의 모든 jpg 파일을 읽어들여서 변환\n",
    "image_dir_path = os.getenv(\"HOME\") + \"/aiffel/rock_scissor_paper/train/scissor\"\n",
    "resize_images(image_dir_path)\n",
    "\n",
    "print(\"가위 이미지 resize 완료!\")"
   ]
  },
  {
   "cell_type": "code",
   "execution_count": 4,
   "id": "monthly-shock",
   "metadata": {},
   "outputs": [
    {
     "name": "stdout",
     "output_type": "stream",
     "text": [
      "100  images to be resized.\n",
      "100  images resized.\n",
      "바위 이미지 resize 완료!\n"
     ]
    }
   ],
   "source": [
    "# 모든 바위 이미지 변환 (train dataset 사용)\n",
    "image_dir_path = os.getenv(\"HOME\") + \"/aiffel/rock_scissor_paper/train/rock\"\n",
    "resize_images(image_dir_path)\n",
    "\n",
    "print(\"바위 이미지 resize 완료!\")"
   ]
  },
  {
   "cell_type": "code",
   "execution_count": 5,
   "id": "western-option",
   "metadata": {},
   "outputs": [
    {
     "name": "stdout",
     "output_type": "stream",
     "text": [
      "100  images to be resized.\n",
      "100  images resized.\n",
      "보 이미지 resize 완료!\n"
     ]
    }
   ],
   "source": [
    "# 모든 보 이미지 변환 (train dataset 사용)\n",
    "image_dir_path = os.getenv(\"HOME\") + \"/aiffel/rock_scissor_paper/train/paper\"\n",
    "resize_images(image_dir_path)\n",
    "\n",
    "print(\"보 이미지 resize 완료!\")"
   ]
  },
  {
   "cell_type": "markdown",
   "id": "incident-configuration",
   "metadata": {},
   "source": [
    " "
   ]
  },
  {
   "cell_type": "markdown",
   "id": "worth-outside",
   "metadata": {},
   "source": [
    "## 2. 데이터 전처리\n",
    "### 2-1. 불러오기\n",
    "숫자 손글씨 인식기에서는 mnist.load_data()라는 함수로 데이터를 불러왔음.\n",
    "여기서는 load_data() 함수를 만들어서 데이터를 불러오도록 하자!"
   ]
  },
  {
   "cell_type": "code",
   "execution_count": 6,
   "id": "adapted-slave",
   "metadata": {},
   "outputs": [
    {
     "name": "stdout",
     "output_type": "stream",
     "text": [
      "학습데이터(x_train)의 이미지 개수는 300 입니다.\n",
      "(300, 28, 28, 3)\n",
      "(300,)\n",
      "최소값: 0  최대값: 255\n"
     ]
    }
   ],
   "source": [
    "# load_data() 함수\n",
    "# 입력으로 이미지가 있는 폴더 위치를 받는다\n",
    "# 숫자 손글씨 인식기와는 다르게 10개의 클래스 (0~9)가 아닌 3개의 클래스 (가위:0, 바위:1, 보:2)이다.\n",
    "import numpy as np\n",
    "\n",
    "def load_data(img_path, number_of_data=300):  # 가위바위보 이미지 개수 총합에 주의하세요.\n",
    "    # 가위 : 0, 바위 : 1, 보 : 2\n",
    "    img_size=28\n",
    "    color=3\n",
    "    #이미지 데이터와 라벨(가위 : 0, 바위 : 1, 보 : 2) 데이터를 담을 행렬(matrix) 영역을 생성합니다.\n",
    "    imgs=np.zeros(number_of_data*img_size*img_size*color,dtype=np.int32).reshape(number_of_data,img_size,img_size,color)\n",
    "    labels=np.zeros(number_of_data,dtype=np.int32)\n",
    "\n",
    "    idx=0\n",
    "    for file in glob.iglob(img_path+'/scissor/*.jpg'):\n",
    "        img = np.array(Image.open(file),dtype=np.int32)\n",
    "        imgs[idx,:,:,:]=img    # 데이터 영역에 이미지 행렬을 복사\n",
    "        labels[idx]=0   # 가위 : 0\n",
    "        idx=idx+1\n",
    "\n",
    "    for file in glob.iglob(img_path+'/rock/*.jpg'):\n",
    "        img = np.array(Image.open(file),dtype=np.int32)\n",
    "        imgs[idx,:,:,:]=img    # 데이터 영역에 이미지 행렬을 복사\n",
    "        labels[idx]=1   # 바위 : 1\n",
    "        idx=idx+1  \n",
    "    \n",
    "    for file in glob.iglob(img_path+'/paper/*.jpg'):\n",
    "        img = np.array(Image.open(file),dtype=np.int32)\n",
    "        imgs[idx,:,:,:]=img    # 데이터 영역에 이미지 행렬을 복사\n",
    "        labels[idx]=2   # 보 : 2\n",
    "        idx=idx+1\n",
    "        \n",
    "    print(\"학습데이터(x_train)의 이미지 개수는\", idx,\"입니다.\")\n",
    "    return imgs, labels\n",
    "\n",
    "image_dir_path = os.getenv(\"HOME\") + \"/aiffel/rock_scissor_paper/train\"\n",
    "(x_train, y_train)=load_data(image_dir_path)\n",
    "\n",
    "# 데이터 파악하기\n",
    "print(x_train.shape)\n",
    "print(y_train.shape)\n",
    "# **** 숫자 손글씨 이미지와 같이 0~255의 픽셀 값을 가진다?? ****\n",
    "print('최소값:',np.min(x_train), ' 최대값:',np.max(x_train))"
   ]
  },
  {
   "cell_type": "code",
   "execution_count": 7,
   "id": "designed-story",
   "metadata": {},
   "outputs": [
    {
     "name": "stdout",
     "output_type": "stream",
     "text": [
      "x_train shape: (300, 28, 28, 3)\n",
      "y_train shape: (300,)\n",
      "최소값: 0.0  최대값: 1.0\n"
     ]
    }
   ],
   "source": [
    "x_train_norm = x_train/255.0   # 입력은 0~1 사이의 값으로 정규화\n",
    "\n",
    "print(\"x_train shape: {}\".format(x_train.shape))\n",
    "print(\"y_train shape: {}\".format(y_train.shape))\n",
    "print('최소값:',np.min(x_train_norm), ' 최대값:',np.max(x_train_norm))"
   ]
  },
  {
   "cell_type": "code",
   "execution_count": 8,
   "id": "municipal-antibody",
   "metadata": {},
   "outputs": [
    {
     "name": "stdout",
     "output_type": "stream",
     "text": [
      "라벨:  0\n"
     ]
    },
    {
     "data": {
      "image/png": "[encoded data removed]",
      "text/plain": [
       "<Figure size 432x288 with 1 Axes>"
      ]
     },
     "metadata": {
      "needs_background": "light"
     },
     "output_type": "display_data"
    }
   ],
   "source": [
    "# 이미지를 한번 불러와 보자\n",
    "import matplotlib.pyplot as plt\n",
    "plt.imshow(x_train[0])\n",
    "print('라벨: ', y_train[0])"
   ]
  },
  {
   "cell_type": "markdown",
   "id": "persistent-tournament",
   "metadata": {},
   "source": [
    "## 3. 딥러닝 네트워크 설계"
   ]
  },
  {
   "cell_type": "code",
   "execution_count": 9,
   "id": "floral-breeding",
   "metadata": {},
   "outputs": [
    {
     "name": "stdout",
     "output_type": "stream",
     "text": [
      "Model에 추가된 Layer 개수:  7\n",
      "Model: \"sequential\"\n",
      "_________________________________________________________________\n",
      "Layer (type)                 Output Shape              Param #   \n",
      "=================================================================\n",
      "conv2d (Conv2D)              (None, 26, 26, 16)        448       \n",
      "_________________________________________________________________\n",
      "max_pooling2d (MaxPooling2D) (None, 13, 13, 16)        0         \n",
      "_________________________________________________________________\n",
      "conv2d_1 (Conv2D)            (None, 11, 11, 32)        4640      \n",
      "_________________________________________________________________\n",
      "max_pooling2d_1 (MaxPooling2 (None, 5, 5, 32)          0         \n",
      "_________________________________________________________________\n",
      "flatten (Flatten)            (None, 800)               0         \n",
      "_________________________________________________________________\n",
      "dense (Dense)                (None, 32)                25632     \n",
      "_________________________________________________________________\n",
      "dense_1 (Dense)              (None, 3)                 99        \n",
      "=================================================================\n",
      "Total params: 30,819\n",
      "Trainable params: 30,819\n",
      "Non-trainable params: 0\n",
      "_________________________________________________________________\n"
     ]
    }
   ],
   "source": [
    "import tensorflow as tf\n",
    "from tensorflow import keras\n",
    "import numpy as np\n",
    "\n",
    "# model을 직접 만들어 보세요.\n",
    "# Hint! model의 입력/출력부에 특히 유의해 주세요. 가위바위보 데이터셋은 MNIST 데이터셋과 어떤 점이 달라졌나요?\n",
    "# [[YOUR CODE]]\n",
    "# 처음은 숫자 손글씨 이미지 때와 비슷하게 간다. **** 마지막 Dense만 3으로 바꿈 ****\n",
    "\n",
    "n_channel_1=16\n",
    "n_channel_2=32\n",
    "n_dense=32\n",
    "n_train_epoch=10\n",
    "\n",
    "\n",
    "model=keras.models.Sequential()\n",
    "model.add(keras.layers.Conv2D(n_channel_1, (3,3), activation='relu', input_shape=(28,28,3)))\n",
    "model.add(keras.layers.MaxPool2D(2,2))\n",
    "model.add(keras.layers.Conv2D(n_channel_2, (3,3), activation='relu'))\n",
    "model.add(keras.layers.MaxPooling2D((2,2)))\n",
    "model.add(keras.layers.Flatten())\n",
    "model.add(keras.layers.Dense(n_dense, activation='relu'))\n",
    "model.add(keras.layers.Dense(3, activation='softmax')) # 결과적으로 분류해 내야 하는 클래스: 3개!\n",
    "\n",
    "print('Model에 추가된 Layer 개수: ', len(model.layers))\n",
    "\n",
    "#딥러닝 네트워크 확인\n",
    "model.summary()"
   ]
  },
  {
   "cell_type": "markdown",
   "id": "handled-bacon",
   "metadata": {},
   "source": [
    " "
   ]
  },
  {
   "cell_type": "markdown",
   "id": "coral-murray",
   "metadata": {},
   "source": [
    "## 4. 딥러닝 네트워크 학습"
   ]
  },
  {
   "cell_type": "code",
   "execution_count": 10,
   "id": "circular-container",
   "metadata": {},
   "outputs": [
    {
     "name": "stdout",
     "output_type": "stream",
     "text": [
      "Epoch 1/10\n",
      "10/10 [==============================] - 5s 191ms/step - loss: 1.1047 - accuracy: 0.3697\n",
      "Epoch 2/10\n",
      "10/10 [==============================] - 0s 3ms/step - loss: 1.0509 - accuracy: 0.4206\n",
      "Epoch 3/10\n",
      "10/10 [==============================] - 0s 3ms/step - loss: 0.9797 - accuracy: 0.6125\n",
      "Epoch 4/10\n",
      "10/10 [==============================] - 0s 3ms/step - loss: 0.9137 - accuracy: 0.5932\n",
      "Epoch 5/10\n",
      "10/10 [==============================] - 0s 3ms/step - loss: 0.8527 - accuracy: 0.6369\n",
      "Epoch 6/10\n",
      "10/10 [==============================] - 0s 3ms/step - loss: 0.7031 - accuracy: 0.8381\n",
      "Epoch 7/10\n",
      "10/10 [==============================] - 0s 3ms/step - loss: 0.6546 - accuracy: 0.7782\n",
      "Epoch 8/10\n",
      "10/10 [==============================] - 0s 3ms/step - loss: 0.5354 - accuracy: 0.8705\n",
      "Epoch 9/10\n",
      "10/10 [==============================] - 0s 3ms/step - loss: 0.4568 - accuracy: 0.8933\n",
      "Epoch 10/10\n",
      "10/10 [==============================] - 0s 3ms/step - loss: 0.3533 - accuracy: 0.9465\n"
     ]
    },
    {
     "data": {
      "text/plain": [
       "<tensorflow.python.keras.callbacks.History at 0x7f7d43564750>"
      ]
     },
     "execution_count": 10,
     "metadata": {},
     "output_type": "execute_result"
    }
   ],
   "source": [
    "model.compile(optimizer='adam',\n",
    "             loss='sparse_categorical_crossentropy',\n",
    "             metrics=['accuracy'])\n",
    "\n",
    "model.fit(x_train_norm, y_train, epochs=n_train_epoch)"
   ]
  },
  {
   "cell_type": "markdown",
   "id": "dried-smoke",
   "metadata": {},
   "source": [
    "## 5. 모델 테스트"
   ]
  },
  {
   "cell_type": "markdown",
   "id": "mobile-monroe",
   "metadata": {},
   "source": [
    "### 5-1. 테스트용 데이터 불러오기"
   ]
  },
  {
   "cell_type": "code",
   "execution_count": 14,
   "id": "fewer-norwegian",
   "metadata": {},
   "outputs": [
    {
     "name": "stdout",
     "output_type": "stream",
     "text": [
      "학습데이터(x_train)의 이미지 개수는 1797 입니다.\n",
      "(1797, 28, 28, 3)\n",
      "(1797,)\n",
      "최소값: 0  최대값: 255\n"
     ]
    }
   ],
   "source": [
    "def load_data_test(img_path, number_of_data=1797):  # 가위바위보 이미지 개수 총합에 주의하세요.\n",
    "    # 가위 : 0, 바위 : 1, 보 : 2\n",
    "    img_size=28\n",
    "    color=3\n",
    "    #이미지 데이터와 라벨(가위 : 0, 바위 : 1, 보 : 2) 데이터를 담을 행렬(matrix) 영역을 생성합니다.\n",
    "    imgs_test=np.zeros(number_of_data*img_size*img_size*color,dtype=np.int32).reshape(number_of_data,img_size,img_size,color)\n",
    "    labels_test=np.zeros(number_of_data,dtype=np.int32)\n",
    "\n",
    "    idx=0\n",
    "    for file in glob.iglob(img_path+'/scissor/scissors_complete/*.jpg'):\n",
    "        img_test = np.array(Image.open(file),dtype=np.int32)\n",
    "        imgs_test[idx,:,:,:]=img_test    # 데이터 영역에 이미지 행렬을 복사\n",
    "        labels_test[idx]=0   # 가위 : 0\n",
    "        idx=idx+1\n",
    "\n",
    "    for file in glob.iglob(img_path+'/rock/rocks_complete/*.jpg'):\n",
    "        img_test = np.array(Image.open(file),dtype=np.int32)\n",
    "        imgs_test[idx,:,:,:]=img_test    # 데이터 영역에 이미지 행렬을 복사\n",
    "        labels_test[idx]=1   # 바위 : 1\n",
    "        idx=idx+1  \n",
    "    \n",
    "    for file in glob.iglob(img_path+'/paper/papers_complete/*.jpg'):\n",
    "        img_test = np.array(Image.open(file),dtype=np.int32)\n",
    "        imgs_test[idx,:,:,:]=img_test    # 데이터 영역에 이미지 행렬을 복사\n",
    "        labels_test[idx]=2   # 보 : 2\n",
    "        idx=idx+1\n",
    "        \n",
    "    print(\"학습데이터(x_train)의 이미지 개수는\", idx,\"입니다.\")\n",
    "    return imgs_test, labels_test\n",
    "\n",
    "image_dir_path_test = os.getenv(\"HOME\") + \"/aiffel/rock_scissor_paper/test\"\n",
    "(x_test, y_test)=load_data_test(image_dir_path_test)\n",
    "\n",
    "# 데이터 파악하기\n",
    "print(x_test.shape)\n",
    "print(y_test.shape)\n",
    "# **** 숫자 손글씨 이미지와 같이 0~255의 픽셀 값을 가진다?? ****\n",
    "print('최소값:',np.min(x_test), ' 최대값:',np.max(x_test))"
   ]
  },
  {
   "cell_type": "code",
   "execution_count": 15,
   "id": "fifteen-centre",
   "metadata": {},
   "outputs": [
    {
     "name": "stdout",
     "output_type": "stream",
     "text": [
      "x_train shape: (1797, 28, 28, 3)\n",
      "y_train shape: (1797,)\n",
      "최소값: 0.0  최대값: 1.0\n"
     ]
    }
   ],
   "source": [
    "x_test_norm = x_test/255.0   # 입력은 0~1 사이의 값으로 정규화\n",
    "\n",
    "print(\"x_train shape: {}\".format(x_test.shape))\n",
    "print(\"y_train shape: {}\".format(y_test.shape))\n",
    "print('최소값:',np.min(x_test_norm), ' 최대값:',np.max(x_test_norm))"
   ]
  },
  {
   "cell_type": "code",
   "execution_count": 16,
   "id": "thirty-plaza",
   "metadata": {},
   "outputs": [
    {
     "name": "stdout",
     "output_type": "stream",
     "text": [
      "라벨:  0\n"
     ]
    },
    {
     "data": {
      "image/png": "[encoded data removed]",
      "text/plain": [
       "<Figure size 432x288 with 1 Axes>"
      ]
     },
     "metadata": {
      "needs_background": "light"
     },
     "output_type": "display_data"
    }
   ],
   "source": [
    "# 이미지를 한번 불러와 보자\n",
    "import matplotlib.pyplot as plt\n",
    "plt.imshow(x_test[0])\n",
    "print('라벨: ', y_test[0])"
   ]
  },
  {
   "cell_type": "markdown",
   "id": "controversial-smell",
   "metadata": {},
   "source": [
    "### 5-2. 테스트용 데이터로 성능 확인하기"
   ]
  },
  {
   "cell_type": "code",
   "execution_count": 17,
   "id": "pleased-package",
   "metadata": {},
   "outputs": [
    {
     "name": "stdout",
     "output_type": "stream",
     "text": [
      "57/57 - 1s - loss: 1.3006 - accuracy: 0.3072\n",
      "test_loss: 1.3006423711776733 \n",
      "test_accuracy: 0.3071786165237427\n"
     ]
    }
   ],
   "source": [
    "test_loss, test_accuracy = model.evaluate(x_test_norm,y_test, verbose=2)\n",
    "print(\"test_loss: {} \".format(test_loss))\n",
    "print(\"test_accuracy: {}\".format(test_accuracy))"
   ]
  },
  {
   "cell_type": "markdown",
   "id": "conceptual-butterfly",
   "metadata": {},
   "source": [
    "## 6. 더 좋은 네트워크 만들기"
   ]
  },
  {
   "cell_type": "markdown",
   "id": "nervous-delaware",
   "metadata": {},
   "source": [
    "### 6-1. 하이퍼 파라미터 바꾸기\n",
    "1. Conv2D layer (입력 이미지의 특징 수) 바꾸기\n",
    "2. Dense layer (뉴런 수) 바꾸기\n",
    "3. epoch (학습 반복 횟수) 바꾸기"
   ]
  },
  {
   "cell_type": "code",
   "execution_count": 19,
   "id": "frequent-amplifier",
   "metadata": {},
   "outputs": [
    {
     "name": "stdout",
     "output_type": "stream",
     "text": [
      "Model에 추가된 Layer 개수:  7\n",
      "Model: \"sequential_2\"\n",
      "_________________________________________________________________\n",
      "Layer (type)                 Output Shape              Param #   \n",
      "=================================================================\n",
      "conv2d_4 (Conv2D)            (None, 26, 26, 64)        1792      \n",
      "_________________________________________________________________\n",
      "max_pooling2d_4 (MaxPooling2 (None, 13, 13, 64)        0         \n",
      "_________________________________________________________________\n",
      "conv2d_5 (Conv2D)            (None, 11, 11, 128)       73856     \n",
      "_________________________________________________________________\n",
      "max_pooling2d_5 (MaxPooling2 (None, 5, 5, 128)         0         \n",
      "_________________________________________________________________\n",
      "flatten_2 (Flatten)          (None, 3200)              0         \n",
      "_________________________________________________________________\n",
      "dense_4 (Dense)              (None, 128)               409728    \n",
      "_________________________________________________________________\n",
      "dense_5 (Dense)              (None, 3)                 387       \n",
      "=================================================================\n",
      "Total params: 485,763\n",
      "Trainable params: 485,763\n",
      "Non-trainable params: 0\n",
      "_________________________________________________________________\n",
      "Epoch 1/100\n",
      "10/10 [==============================] - 4s 214ms/step - loss: 1.1282 - accuracy: 0.3461\n",
      "Epoch 2/100\n",
      "10/10 [==============================] - 0s 5ms/step - loss: 1.0477 - accuracy: 0.5029\n",
      "Epoch 3/100\n",
      "10/10 [==============================] - 0s 5ms/step - loss: 0.8593 - accuracy: 0.7831\n",
      "Epoch 4/100\n",
      "10/10 [==============================] - 0s 5ms/step - loss: 0.6955 - accuracy: 0.7482\n",
      "Epoch 5/100\n",
      "10/10 [==============================] - 0s 5ms/step - loss: 0.4815 - accuracy: 0.8635\n",
      "Epoch 6/100\n",
      "10/10 [==============================] - 0s 5ms/step - loss: 0.2630 - accuracy: 0.9356\n",
      "Epoch 7/100\n",
      "10/10 [==============================] - 0s 5ms/step - loss: 0.1401 - accuracy: 0.9872\n",
      "Epoch 8/100\n",
      "10/10 [==============================] - 0s 5ms/step - loss: 0.0806 - accuracy: 0.9953\n",
      "Epoch 9/100\n",
      "10/10 [==============================] - 0s 5ms/step - loss: 0.0600 - accuracy: 1.0000\n",
      "Epoch 10/100\n",
      "10/10 [==============================] - 0s 5ms/step - loss: 0.0302 - accuracy: 1.0000\n",
      "Epoch 11/100\n",
      "10/10 [==============================] - 0s 6ms/step - loss: 0.0186 - accuracy: 0.9956\n",
      "Epoch 12/100\n",
      "10/10 [==============================] - 0s 5ms/step - loss: 0.0086 - accuracy: 1.0000\n",
      "Epoch 13/100\n",
      "10/10 [==============================] - 0s 5ms/step - loss: 0.0053 - accuracy: 1.0000\n",
      "Epoch 14/100\n",
      "10/10 [==============================] - 0s 5ms/step - loss: 0.0039 - accuracy: 1.0000\n",
      "Epoch 15/100\n",
      "10/10 [==============================] - 0s 5ms/step - loss: 0.0033 - accuracy: 1.0000\n",
      "Epoch 16/100\n",
      "10/10 [==============================] - 0s 5ms/step - loss: 0.0026 - accuracy: 1.0000\n",
      "Epoch 17/100\n",
      "10/10 [==============================] - 0s 5ms/step - loss: 0.0023 - accuracy: 1.0000\n",
      "Epoch 18/100\n",
      "10/10 [==============================] - 0s 5ms/step - loss: 0.0023 - accuracy: 1.0000\n",
      "Epoch 19/100\n",
      "10/10 [==============================] - 0s 5ms/step - loss: 0.0020 - accuracy: 1.0000\n",
      "Epoch 20/100\n",
      "10/10 [==============================] - 0s 5ms/step - loss: 0.0017 - accuracy: 1.0000\n",
      "Epoch 21/100\n",
      "10/10 [==============================] - 0s 5ms/step - loss: 0.0015 - accuracy: 1.0000\n",
      "Epoch 22/100\n",
      "10/10 [==============================] - 0s 5ms/step - loss: 0.0014 - accuracy: 1.0000\n",
      "Epoch 23/100\n",
      "10/10 [==============================] - 0s 5ms/step - loss: 0.0013 - accuracy: 1.0000\n",
      "Epoch 24/100\n",
      "10/10 [==============================] - 0s 5ms/step - loss: 0.0011 - accuracy: 1.0000\n",
      "Epoch 25/100\n",
      "10/10 [==============================] - 0s 5ms/step - loss: 0.0011 - accuracy: 1.0000\n",
      "Epoch 26/100\n",
      "10/10 [==============================] - 0s 4ms/step - loss: 0.0010 - accuracy: 1.0000\n",
      "Epoch 27/100\n",
      "10/10 [==============================] - 0s 4ms/step - loss: 8.8653e-04 - accuracy: 1.0000\n",
      "Epoch 28/100\n",
      "10/10 [==============================] - 0s 4ms/step - loss: 8.5044e-04 - accuracy: 1.0000\n",
      "Epoch 29/100\n",
      "10/10 [==============================] - 0s 4ms/step - loss: 7.4012e-04 - accuracy: 1.0000\n",
      "Epoch 30/100\n",
      "10/10 [==============================] - 0s 4ms/step - loss: 7.0576e-04 - accuracy: 1.0000\n",
      "Epoch 31/100\n",
      "10/10 [==============================] - 0s 4ms/step - loss: 5.6632e-04 - accuracy: 1.0000\n",
      "Epoch 32/100\n",
      "10/10 [==============================] - 0s 4ms/step - loss: 5.4822e-04 - accuracy: 1.0000\n",
      "Epoch 33/100\n",
      "10/10 [==============================] - 0s 4ms/step - loss: 5.3968e-04 - accuracy: 1.0000\n",
      "Epoch 34/100\n",
      "10/10 [==============================] - 0s 4ms/step - loss: 4.7363e-04 - accuracy: 1.0000\n",
      "Epoch 35/100\n",
      "10/10 [==============================] - 0s 4ms/step - loss: 4.3040e-04 - accuracy: 1.0000\n",
      "Epoch 36/100\n",
      "10/10 [==============================] - 0s 4ms/step - loss: 4.2236e-04 - accuracy: 1.0000\n",
      "Epoch 37/100\n",
      "10/10 [==============================] - 0s 4ms/step - loss: 4.2182e-04 - accuracy: 1.0000\n",
      "Epoch 38/100\n",
      "10/10 [==============================] - 0s 4ms/step - loss: 3.6990e-04 - accuracy: 1.0000\n",
      "Epoch 39/100\n",
      "10/10 [==============================] - 0s 4ms/step - loss: 2.9510e-04 - accuracy: 1.0000\n",
      "Epoch 40/100\n",
      "10/10 [==============================] - 0s 4ms/step - loss: 2.9015e-04 - accuracy: 1.0000\n",
      "Epoch 41/100\n",
      "10/10 [==============================] - 0s 4ms/step - loss: 2.8008e-04 - accuracy: 1.0000\n",
      "Epoch 42/100\n",
      "10/10 [==============================] - 0s 4ms/step - loss: 2.5036e-04 - accuracy: 1.0000\n",
      "Epoch 43/100\n",
      "10/10 [==============================] - 0s 4ms/step - loss: 2.3001e-04 - accuracy: 1.0000\n",
      "Epoch 44/100\n",
      "10/10 [==============================] - 0s 4ms/step - loss: 2.0025e-04 - accuracy: 1.0000\n",
      "Epoch 45/100\n",
      "10/10 [==============================] - 0s 4ms/step - loss: 1.8274e-04 - accuracy: 1.0000\n",
      "Epoch 46/100\n",
      "10/10 [==============================] - 0s 4ms/step - loss: 1.9147e-04 - accuracy: 1.0000\n",
      "Epoch 47/100\n",
      "10/10 [==============================] - 0s 5ms/step - loss: 1.5306e-04 - accuracy: 1.0000\n",
      "Epoch 48/100\n",
      "10/10 [==============================] - 0s 5ms/step - loss: 1.6066e-04 - accuracy: 1.0000\n",
      "Epoch 49/100\n",
      "10/10 [==============================] - 0s 4ms/step - loss: 1.4022e-04 - accuracy: 1.0000\n",
      "Epoch 50/100\n",
      "10/10 [==============================] - 0s 4ms/step - loss: 1.3880e-04 - accuracy: 1.0000\n",
      "Epoch 51/100\n",
      "10/10 [==============================] - 0s 4ms/step - loss: 1.2412e-04 - accuracy: 1.0000\n",
      "Epoch 52/100\n",
      "10/10 [==============================] - 0s 4ms/step - loss: 1.1781e-04 - accuracy: 1.0000\n",
      "Epoch 53/100\n",
      "10/10 [==============================] - 0s 4ms/step - loss: 1.0926e-04 - accuracy: 1.0000\n",
      "Epoch 54/100\n",
      "10/10 [==============================] - 0s 4ms/step - loss: 1.0787e-04 - accuracy: 1.0000\n",
      "Epoch 55/100\n",
      "10/10 [==============================] - 0s 4ms/step - loss: 1.0488e-04 - accuracy: 1.0000\n",
      "Epoch 56/100\n",
      "10/10 [==============================] - 0s 4ms/step - loss: 8.4639e-05 - accuracy: 1.0000\n",
      "Epoch 57/100\n",
      "10/10 [==============================] - 0s 4ms/step - loss: 8.3793e-05 - accuracy: 1.0000\n",
      "Epoch 58/100\n",
      "10/10 [==============================] - 0s 4ms/step - loss: 8.6943e-05 - accuracy: 1.0000\n",
      "Epoch 59/100\n",
      "10/10 [==============================] - 0s 4ms/step - loss: 7.5426e-05 - accuracy: 1.0000\n",
      "Epoch 60/100\n",
      "10/10 [==============================] - 0s 4ms/step - loss: 7.1302e-05 - accuracy: 1.0000\n",
      "Epoch 61/100\n",
      "10/10 [==============================] - 0s 4ms/step - loss: 6.6518e-05 - accuracy: 1.0000\n",
      "Epoch 62/100\n",
      "10/10 [==============================] - 0s 4ms/step - loss: 6.5822e-05 - accuracy: 1.0000\n",
      "Epoch 63/100\n",
      "10/10 [==============================] - 0s 4ms/step - loss: 5.8004e-05 - accuracy: 1.0000\n",
      "Epoch 64/100\n",
      "10/10 [==============================] - 0s 4ms/step - loss: 5.9930e-05 - accuracy: 1.0000\n",
      "Epoch 65/100\n",
      "10/10 [==============================] - 0s 4ms/step - loss: 5.5800e-05 - accuracy: 1.0000\n",
      "Epoch 66/100\n",
      "10/10 [==============================] - 0s 4ms/step - loss: 5.7271e-05 - accuracy: 1.0000\n",
      "Epoch 67/100\n",
      "10/10 [==============================] - 0s 4ms/step - loss: 5.2663e-05 - accuracy: 1.0000\n",
      "Epoch 68/100\n"
     ]
    },
    {
     "name": "stdout",
     "output_type": "stream",
     "text": [
      "10/10 [==============================] - 0s 4ms/step - loss: 4.7295e-05 - accuracy: 1.0000\n",
      "Epoch 69/100\n",
      "10/10 [==============================] - 0s 4ms/step - loss: 4.3737e-05 - accuracy: 1.0000\n",
      "Epoch 70/100\n",
      "10/10 [==============================] - 0s 4ms/step - loss: 4.1600e-05 - accuracy: 1.0000\n",
      "Epoch 71/100\n",
      "10/10 [==============================] - 0s 4ms/step - loss: 4.2224e-05 - accuracy: 1.0000\n",
      "Epoch 72/100\n",
      "10/10 [==============================] - 0s 4ms/step - loss: 3.8240e-05 - accuracy: 1.0000\n",
      "Epoch 73/100\n",
      "10/10 [==============================] - 0s 4ms/step - loss: 3.9297e-05 - accuracy: 1.0000\n",
      "Epoch 74/100\n",
      "10/10 [==============================] - 0s 4ms/step - loss: 3.7300e-05 - accuracy: 1.0000\n",
      "Epoch 75/100\n",
      "10/10 [==============================] - 0s 4ms/step - loss: 3.6429e-05 - accuracy: 1.0000\n",
      "Epoch 76/100\n",
      "10/10 [==============================] - 0s 4ms/step - loss: 3.3378e-05 - accuracy: 1.0000\n",
      "Epoch 77/100\n",
      "10/10 [==============================] - 0s 4ms/step - loss: 3.4776e-05 - accuracy: 1.0000\n",
      "Epoch 78/100\n",
      "10/10 [==============================] - 0s 4ms/step - loss: 3.0184e-05 - accuracy: 1.0000\n",
      "Epoch 79/100\n",
      "10/10 [==============================] - 0s 4ms/step - loss: 2.9040e-05 - accuracy: 1.0000\n",
      "Epoch 80/100\n",
      "10/10 [==============================] - 0s 4ms/step - loss: 3.1990e-05 - accuracy: 1.0000\n",
      "Epoch 81/100\n",
      "10/10 [==============================] - 0s 4ms/step - loss: 2.6887e-05 - accuracy: 1.0000\n",
      "Epoch 82/100\n",
      "10/10 [==============================] - 0s 4ms/step - loss: 2.5298e-05 - accuracy: 1.0000\n",
      "Epoch 83/100\n",
      "10/10 [==============================] - 0s 4ms/step - loss: 2.5351e-05 - accuracy: 1.0000\n",
      "Epoch 84/100\n",
      "10/10 [==============================] - 0s 4ms/step - loss: 2.5362e-05 - accuracy: 1.0000\n",
      "Epoch 85/100\n",
      "10/10 [==============================] - 0s 4ms/step - loss: 2.3328e-05 - accuracy: 1.0000\n",
      "Epoch 86/100\n",
      "10/10 [==============================] - 0s 4ms/step - loss: 2.1994e-05 - accuracy: 1.0000\n",
      "Epoch 87/100\n",
      "10/10 [==============================] - 0s 4ms/step - loss: 2.3172e-05 - accuracy: 1.0000\n",
      "Epoch 88/100\n",
      "10/10 [==============================] - 0s 4ms/step - loss: 2.4443e-05 - accuracy: 1.0000\n",
      "Epoch 89/100\n",
      "10/10 [==============================] - 0s 4ms/step - loss: 2.3217e-05 - accuracy: 1.0000\n",
      "Epoch 90/100\n",
      "10/10 [==============================] - 0s 4ms/step - loss: 2.0441e-05 - accuracy: 1.0000\n",
      "Epoch 91/100\n",
      "10/10 [==============================] - 0s 4ms/step - loss: 2.0223e-05 - accuracy: 1.0000\n",
      "Epoch 92/100\n",
      "10/10 [==============================] - 0s 4ms/step - loss: 1.6940e-05 - accuracy: 1.0000\n",
      "Epoch 93/100\n",
      "10/10 [==============================] - 0s 4ms/step - loss: 1.8518e-05 - accuracy: 1.0000\n",
      "Epoch 94/100\n",
      "10/10 [==============================] - 0s 4ms/step - loss: 1.7065e-05 - accuracy: 1.0000\n",
      "Epoch 95/100\n",
      "10/10 [==============================] - 0s 4ms/step - loss: 1.9666e-05 - accuracy: 1.0000\n",
      "Epoch 96/100\n",
      "10/10 [==============================] - 0s 4ms/step - loss: 1.6856e-05 - accuracy: 1.0000\n",
      "Epoch 97/100\n",
      "10/10 [==============================] - 0s 4ms/step - loss: 1.7167e-05 - accuracy: 1.0000\n",
      "Epoch 98/100\n",
      "10/10 [==============================] - 0s 4ms/step - loss: 1.8666e-05 - accuracy: 1.0000\n",
      "Epoch 99/100\n",
      "10/10 [==============================] - 0s 4ms/step - loss: 1.5411e-05 - accuracy: 1.0000\n",
      "Epoch 100/100\n",
      "10/10 [==============================] - 0s 4ms/step - loss: 1.5679e-05 - accuracy: 1.0000\n",
      "57/57 - 1s - loss: 4.1286 - accuracy: 0.4574\n",
      "test_loss: 4.128592014312744 \n",
      "test_accuracy: 0.45742905139923096\n"
     ]
    }
   ],
   "source": [
    "n_channel_1=64\n",
    "n_channel_2=128\n",
    "n_dense=128\n",
    "n_train_epoch=100\n",
    "\n",
    "\n",
    "model=keras.models.Sequential()\n",
    "model.add(keras.layers.Conv2D(n_channel_1, (3,3), activation='relu', input_shape=(28,28,3)))\n",
    "model.add(keras.layers.MaxPool2D(2,2))\n",
    "model.add(keras.layers.Conv2D(n_channel_2, (3,3), activation='relu'))\n",
    "model.add(keras.layers.MaxPooling2D((2,2)))\n",
    "model.add(keras.layers.Flatten())\n",
    "model.add(keras.layers.Dense(n_dense, activation='relu'))\n",
    "model.add(keras.layers.Dense(3, activation='softmax')) # 결과적으로 분류해 내야 하는 클래스: 3개!\n",
    "\n",
    "print('Model에 추가된 Layer 개수: ', len(model.layers))\n",
    "\n",
    "# 딥러닝 네트워크 확인\n",
    "model.summary()\n",
    "\n",
    "# 학습\n",
    "model.compile(optimizer='adam',\n",
    "             loss='sparse_categorical_crossentropy',\n",
    "             metrics=['accuracy'])\n",
    "\n",
    "model.fit(x_train_norm, y_train, epochs=n_train_epoch) \n",
    "\n",
    "# 5. 테스트\n",
    "test_loss, test_accuracy = model.evaluate(x_test_norm, y_test, verbose=2)\n",
    "print(\"test_loss: {} \".format(test_loss))\n",
    "print(\"test_accuracy: {}\".format(test_accuracy))"
   ]
  },
  {
   "cell_type": "markdown",
   "id": "blocked-conspiracy",
   "metadata": {},
   "source": [
    "### 6-2. train과 test data 바꿔보기\n",
    " - train dataset이 너무 작음"
   ]
  },
  {
   "cell_type": "code",
   "execution_count": 20,
   "id": "light-fleet",
   "metadata": {},
   "outputs": [
    {
     "name": "stdout",
     "output_type": "stream",
     "text": [
      "Model에 추가된 Layer 개수:  7\n",
      "Model: \"sequential_3\"\n",
      "_________________________________________________________________\n",
      "Layer (type)                 Output Shape              Param #   \n",
      "=================================================================\n",
      "conv2d_6 (Conv2D)            (None, 26, 26, 64)        1792      \n",
      "_________________________________________________________________\n",
      "max_pooling2d_6 (MaxPooling2 (None, 13, 13, 64)        0         \n",
      "_________________________________________________________________\n",
      "conv2d_7 (Conv2D)            (None, 11, 11, 128)       73856     \n",
      "_________________________________________________________________\n",
      "max_pooling2d_7 (MaxPooling2 (None, 5, 5, 128)         0         \n",
      "_________________________________________________________________\n",
      "flatten_3 (Flatten)          (None, 3200)              0         \n",
      "_________________________________________________________________\n",
      "dense_6 (Dense)              (None, 128)               409728    \n",
      "_________________________________________________________________\n",
      "dense_7 (Dense)              (None, 3)                 387       \n",
      "=================================================================\n",
      "Total params: 485,763\n",
      "Trainable params: 485,763\n",
      "Non-trainable params: 0\n",
      "_________________________________________________________________\n",
      "Epoch 1/100\n",
      "57/57 [==============================] - 2s 26ms/step - loss: 1.0419 - accuracy: 0.4378\n",
      "Epoch 2/100\n",
      "57/57 [==============================] - 0s 5ms/step - loss: 0.6116 - accuracy: 0.7689\n",
      "Epoch 3/100\n",
      "57/57 [==============================] - 0s 5ms/step - loss: 0.3229 - accuracy: 0.8733\n",
      "Epoch 4/100\n",
      "57/57 [==============================] - 0s 4ms/step - loss: 0.2167 - accuracy: 0.9333\n",
      "Epoch 5/100\n",
      "57/57 [==============================] - 0s 4ms/step - loss: 0.1035 - accuracy: 0.9772\n",
      "Epoch 6/100\n",
      "57/57 [==============================] - 0s 4ms/step - loss: 0.3003 - accuracy: 0.8809\n",
      "Epoch 7/100\n",
      "57/57 [==============================] - 0s 4ms/step - loss: 0.0575 - accuracy: 0.9931\n",
      "Epoch 8/100\n",
      "57/57 [==============================] - 0s 4ms/step - loss: 0.0485 - accuracy: 0.9869\n",
      "Epoch 9/100\n",
      "57/57 [==============================] - 0s 4ms/step - loss: 0.0213 - accuracy: 0.9983\n",
      "Epoch 10/100\n",
      "57/57 [==============================] - 0s 5ms/step - loss: 0.0139 - accuracy: 0.9974\n",
      "Epoch 11/100\n",
      "57/57 [==============================] - 0s 4ms/step - loss: 0.0116 - accuracy: 0.9987\n",
      "Epoch 12/100\n",
      "57/57 [==============================] - 0s 4ms/step - loss: 0.0047 - accuracy: 0.9999\n",
      "Epoch 13/100\n",
      "57/57 [==============================] - 0s 4ms/step - loss: 0.0074 - accuracy: 0.9988\n",
      "Epoch 14/100\n",
      "57/57 [==============================] - 0s 4ms/step - loss: 0.0044 - accuracy: 1.0000\n",
      "Epoch 15/100\n",
      "57/57 [==============================] - 0s 4ms/step - loss: 0.0043 - accuracy: 1.0000\n",
      "Epoch 16/100\n",
      "57/57 [==============================] - 0s 4ms/step - loss: 0.0026 - accuracy: 1.0000\n",
      "Epoch 17/100\n",
      "57/57 [==============================] - 0s 4ms/step - loss: 0.0017 - accuracy: 1.0000\n",
      "Epoch 18/100\n",
      "57/57 [==============================] - 0s 5ms/step - loss: 0.0016 - accuracy: 1.0000\n",
      "Epoch 19/100\n",
      "57/57 [==============================] - 0s 4ms/step - loss: 0.0011 - accuracy: 1.0000\n",
      "Epoch 20/100\n",
      "57/57 [==============================] - 0s 4ms/step - loss: 0.0027 - accuracy: 1.0000\n",
      "Epoch 21/100\n",
      "57/57 [==============================] - 0s 4ms/step - loss: 9.4742e-04 - accuracy: 1.0000\n",
      "Epoch 22/100\n",
      "57/57 [==============================] - 0s 4ms/step - loss: 7.8450e-04 - accuracy: 1.0000\n",
      "Epoch 23/100\n",
      "57/57 [==============================] - 0s 4ms/step - loss: 6.7392e-04 - accuracy: 1.0000\n",
      "Epoch 24/100\n",
      "57/57 [==============================] - 0s 4ms/step - loss: 6.6975e-04 - accuracy: 1.0000\n",
      "Epoch 25/100\n",
      "57/57 [==============================] - 0s 4ms/step - loss: 5.5518e-04 - accuracy: 1.0000\n",
      "Epoch 26/100\n",
      "57/57 [==============================] - 0s 4ms/step - loss: 5.2826e-04 - accuracy: 1.0000\n",
      "Epoch 27/100\n",
      "57/57 [==============================] - 0s 4ms/step - loss: 4.8468e-04 - accuracy: 1.0000\n",
      "Epoch 28/100\n",
      "57/57 [==============================] - 0s 4ms/step - loss: 4.9539e-04 - accuracy: 1.0000\n",
      "Epoch 29/100\n",
      "57/57 [==============================] - 0s 4ms/step - loss: 4.5457e-04 - accuracy: 1.0000\n",
      "Epoch 30/100\n",
      "57/57 [==============================] - 0s 4ms/step - loss: 3.6438e-04 - accuracy: 1.0000\n",
      "Epoch 31/100\n",
      "57/57 [==============================] - 0s 4ms/step - loss: 3.7431e-04 - accuracy: 1.0000\n",
      "Epoch 32/100\n",
      "57/57 [==============================] - 0s 4ms/step - loss: 3.2539e-04 - accuracy: 1.0000\n",
      "Epoch 33/100\n",
      "57/57 [==============================] - 0s 4ms/step - loss: 3.2256e-04 - accuracy: 1.0000\n",
      "Epoch 34/100\n",
      "57/57 [==============================] - 0s 4ms/step - loss: 2.7473e-04 - accuracy: 1.0000\n",
      "Epoch 35/100\n",
      "57/57 [==============================] - 0s 4ms/step - loss: 2.2672e-04 - accuracy: 1.0000\n",
      "Epoch 36/100\n",
      "57/57 [==============================] - 0s 4ms/step - loss: 2.0956e-04 - accuracy: 1.0000\n",
      "Epoch 37/100\n",
      "57/57 [==============================] - 0s 4ms/step - loss: 2.3480e-04 - accuracy: 1.0000\n",
      "Epoch 38/100\n",
      "57/57 [==============================] - 0s 4ms/step - loss: 1.9845e-04 - accuracy: 1.0000\n",
      "Epoch 39/100\n",
      "57/57 [==============================] - 0s 4ms/step - loss: 1.7020e-04 - accuracy: 1.0000\n",
      "Epoch 40/100\n",
      "57/57 [==============================] - 0s 4ms/step - loss: 1.9452e-04 - accuracy: 1.0000\n",
      "Epoch 41/100\n",
      "57/57 [==============================] - 0s 4ms/step - loss: 1.6925e-04 - accuracy: 1.0000\n",
      "Epoch 42/100\n",
      "57/57 [==============================] - 0s 4ms/step - loss: 1.9062e-04 - accuracy: 1.0000\n",
      "Epoch 43/100\n",
      "57/57 [==============================] - 0s 4ms/step - loss: 2.2567e-04 - accuracy: 1.0000\n",
      "Epoch 44/100\n",
      "57/57 [==============================] - 0s 4ms/step - loss: 1.3619e-04 - accuracy: 1.0000\n",
      "Epoch 45/100\n",
      "57/57 [==============================] - 0s 4ms/step - loss: 1.2376e-04 - accuracy: 1.0000\n",
      "Epoch 46/100\n",
      "57/57 [==============================] - 0s 4ms/step - loss: 1.1842e-04 - accuracy: 1.0000\n",
      "Epoch 47/100\n",
      "57/57 [==============================] - 0s 4ms/step - loss: 1.1550e-04 - accuracy: 1.0000\n",
      "Epoch 48/100\n",
      "57/57 [==============================] - 0s 4ms/step - loss: 9.1351e-05 - accuracy: 1.0000\n",
      "Epoch 49/100\n",
      "57/57 [==============================] - 0s 4ms/step - loss: 1.0094e-04 - accuracy: 1.0000\n",
      "Epoch 50/100\n",
      "57/57 [==============================] - 0s 4ms/step - loss: 1.2400e-04 - accuracy: 1.0000\n",
      "Epoch 51/100\n",
      "57/57 [==============================] - 0s 4ms/step - loss: 9.0284e-05 - accuracy: 1.0000\n",
      "Epoch 52/100\n",
      "57/57 [==============================] - 0s 4ms/step - loss: 8.0878e-05 - accuracy: 1.0000\n",
      "Epoch 53/100\n",
      "57/57 [==============================] - 0s 4ms/step - loss: 8.1443e-05 - accuracy: 1.0000\n",
      "Epoch 54/100\n",
      "57/57 [==============================] - 0s 4ms/step - loss: 7.4950e-05 - accuracy: 1.0000\n",
      "Epoch 55/100\n",
      "57/57 [==============================] - 0s 4ms/step - loss: 5.9599e-05 - accuracy: 1.0000\n",
      "Epoch 56/100\n",
      "57/57 [==============================] - 0s 4ms/step - loss: 6.6814e-05 - accuracy: 1.0000\n",
      "Epoch 57/100\n",
      "57/57 [==============================] - 0s 4ms/step - loss: 6.9105e-05 - accuracy: 1.0000\n",
      "Epoch 58/100\n",
      "57/57 [==============================] - 0s 4ms/step - loss: 5.7721e-05 - accuracy: 1.0000\n",
      "Epoch 59/100\n",
      "57/57 [==============================] - 0s 4ms/step - loss: 5.7522e-05 - accuracy: 1.0000\n",
      "Epoch 60/100\n",
      "57/57 [==============================] - 0s 4ms/step - loss: 5.3505e-05 - accuracy: 1.0000\n",
      "Epoch 61/100\n",
      "57/57 [==============================] - 0s 4ms/step - loss: 5.3341e-05 - accuracy: 1.0000\n",
      "Epoch 62/100\n",
      "57/57 [==============================] - 0s 4ms/step - loss: 5.3399e-05 - accuracy: 1.0000\n",
      "Epoch 63/100\n",
      "57/57 [==============================] - 0s 4ms/step - loss: 5.2569e-05 - accuracy: 1.0000\n",
      "Epoch 64/100\n",
      "57/57 [==============================] - 0s 4ms/step - loss: 5.5174e-05 - accuracy: 1.0000\n",
      "Epoch 65/100\n",
      "57/57 [==============================] - 0s 4ms/step - loss: 4.2312e-05 - accuracy: 1.0000\n",
      "Epoch 66/100\n",
      "57/57 [==============================] - 0s 4ms/step - loss: 4.7032e-05 - accuracy: 1.0000\n",
      "Epoch 67/100\n",
      "57/57 [==============================] - 0s 4ms/step - loss: 4.2144e-05 - accuracy: 1.0000\n",
      "Epoch 68/100\n"
     ]
    },
    {
     "name": "stdout",
     "output_type": "stream",
     "text": [
      "57/57 [==============================] - 0s 4ms/step - loss: 3.8248e-05 - accuracy: 1.0000\n",
      "Epoch 69/100\n",
      "57/57 [==============================] - 0s 4ms/step - loss: 3.6456e-05 - accuracy: 1.0000\n",
      "Epoch 70/100\n",
      "57/57 [==============================] - 0s 4ms/step - loss: 3.4584e-05 - accuracy: 1.0000\n",
      "Epoch 71/100\n",
      "57/57 [==============================] - 0s 4ms/step - loss: 3.6564e-05 - accuracy: 1.0000\n",
      "Epoch 72/100\n",
      "57/57 [==============================] - 0s 4ms/step - loss: 2.8789e-05 - accuracy: 1.0000\n",
      "Epoch 73/100\n",
      "57/57 [==============================] - 0s 4ms/step - loss: 3.0450e-05 - accuracy: 1.0000\n",
      "Epoch 74/100\n",
      "57/57 [==============================] - 0s 4ms/step - loss: 2.5640e-05 - accuracy: 1.0000\n",
      "Epoch 75/100\n",
      "57/57 [==============================] - 0s 4ms/step - loss: 2.8736e-05 - accuracy: 1.0000\n",
      "Epoch 76/100\n",
      "57/57 [==============================] - 0s 4ms/step - loss: 2.6299e-05 - accuracy: 1.0000\n",
      "Epoch 77/100\n",
      "57/57 [==============================] - 0s 4ms/step - loss: 2.6523e-05 - accuracy: 1.0000\n",
      "Epoch 78/100\n",
      "57/57 [==============================] - 0s 4ms/step - loss: 2.8724e-05 - accuracy: 1.0000\n",
      "Epoch 79/100\n",
      "57/57 [==============================] - 0s 4ms/step - loss: 2.1461e-05 - accuracy: 1.0000\n",
      "Epoch 80/100\n",
      "57/57 [==============================] - 0s 4ms/step - loss: 2.3545e-05 - accuracy: 1.0000\n",
      "Epoch 81/100\n",
      "57/57 [==============================] - 0s 4ms/step - loss: 2.3752e-05 - accuracy: 1.0000\n",
      "Epoch 82/100\n",
      "57/57 [==============================] - 0s 4ms/step - loss: 2.3840e-05 - accuracy: 1.0000\n",
      "Epoch 83/100\n",
      "57/57 [==============================] - 0s 4ms/step - loss: 2.2212e-05 - accuracy: 1.0000\n",
      "Epoch 84/100\n",
      "57/57 [==============================] - 0s 4ms/step - loss: 2.0928e-05 - accuracy: 1.0000\n",
      "Epoch 85/100\n",
      "57/57 [==============================] - 0s 4ms/step - loss: 2.6416e-05 - accuracy: 1.0000\n",
      "Epoch 86/100\n",
      "57/57 [==============================] - 0s 4ms/step - loss: 1.8296e-05 - accuracy: 1.0000\n",
      "Epoch 87/100\n",
      "57/57 [==============================] - 0s 4ms/step - loss: 2.6572e-05 - accuracy: 1.0000\n",
      "Epoch 88/100\n",
      "57/57 [==============================] - 0s 4ms/step - loss: 1.7411e-05 - accuracy: 1.0000\n",
      "Epoch 89/100\n",
      "57/57 [==============================] - 0s 4ms/step - loss: 1.3952e-05 - accuracy: 1.0000\n",
      "Epoch 90/100\n",
      "57/57 [==============================] - 0s 4ms/step - loss: 1.4142e-05 - accuracy: 1.0000\n",
      "Epoch 91/100\n",
      "57/57 [==============================] - 0s 4ms/step - loss: 1.6058e-05 - accuracy: 1.0000\n",
      "Epoch 92/100\n",
      "57/57 [==============================] - 0s 4ms/step - loss: 1.2498e-05 - accuracy: 1.0000\n",
      "Epoch 93/100\n",
      "57/57 [==============================] - 0s 4ms/step - loss: 1.1675e-05 - accuracy: 1.0000\n",
      "Epoch 94/100\n",
      "57/57 [==============================] - 0s 4ms/step - loss: 1.3496e-05 - accuracy: 1.0000\n",
      "Epoch 95/100\n",
      "57/57 [==============================] - 0s 4ms/step - loss: 1.1125e-05 - accuracy: 1.0000\n",
      "Epoch 96/100\n",
      "57/57 [==============================] - 0s 5ms/step - loss: 1.1043e-05 - accuracy: 1.0000\n",
      "Epoch 97/100\n",
      "57/57 [==============================] - 0s 4ms/step - loss: 1.1046e-05 - accuracy: 1.0000\n",
      "Epoch 98/100\n",
      "57/57 [==============================] - 0s 4ms/step - loss: 9.6049e-06 - accuracy: 1.0000\n",
      "Epoch 99/100\n",
      "57/57 [==============================] - 0s 4ms/step - loss: 9.5736e-06 - accuracy: 1.0000\n",
      "Epoch 100/100\n",
      "57/57 [==============================] - 0s 4ms/step - loss: 1.0660e-05 - accuracy: 1.0000\n",
      "10/10 - 0s - loss: 9.5742 - accuracy: 0.5033\n",
      "test_loss: 9.574237823486328 \n",
      "test_accuracy: 0.503333330154419\n"
     ]
    }
   ],
   "source": [
    "n_channel_1=64\n",
    "n_channel_2=128\n",
    "n_dense=128\n",
    "n_train_epoch=100\n",
    "\n",
    "\n",
    "model=keras.models.Sequential()\n",
    "model.add(keras.layers.Conv2D(n_channel_1, (3,3), activation='relu', input_shape=(28,28,3)))\n",
    "model.add(keras.layers.MaxPool2D(2,2))\n",
    "model.add(keras.layers.Conv2D(n_channel_2, (3,3), activation='relu'))\n",
    "model.add(keras.layers.MaxPooling2D((2,2)))\n",
    "model.add(keras.layers.Flatten())\n",
    "model.add(keras.layers.Dense(n_dense, activation='relu'))\n",
    "model.add(keras.layers.Dense(3, activation='softmax')) # 결과적으로 분류해 내야 하는 클래스: 3개!\n",
    "\n",
    "print('Model에 추가된 Layer 개수: ', len(model.layers))\n",
    "\n",
    "# 딥러닝 네트워크 확인\n",
    "model.summary()\n",
    "\n",
    "# 학습\n",
    "model.compile(optimizer='adam',\n",
    "             loss='sparse_categorical_crossentropy',\n",
    "             metrics=['accuracy'])\n",
    "\n",
    "model.fit(x_test_norm, y_test, epochs=n_train_epoch) \n",
    "\n",
    "# 5. 테스트\n",
    "test_loss, test_accuracy = model.evaluate(x_train_norm, y_train, verbose=2)\n",
    "print(\"test_loss: {} \".format(test_loss))\n",
    "print(\"test_accuracy: {}\".format(test_accuracy))"
   ]
  },
  {
   "cell_type": "code",
   "execution_count": null,
   "id": "orange-carry",
   "metadata": {},
   "outputs": [],
   "source": []
  }
 ],
 "metadata": {
  "kernelspec": {
   "display_name": "Python 3",
   "language": "python",
   "name": "python3"
  },
  "language_info": {
   "codemirror_mode": {
    "name": "ipython",
    "version": 3
   },
   "file_extension": ".py",
   "mimetype": "text/x-python",
   "name": "python",
   "nbconvert_exporter": "python",
   "pygments_lexer": "ipython3",
   "version": "3.7.9"
  }
 },
 "nbformat": 4,
 "nbformat_minor": 5
}
